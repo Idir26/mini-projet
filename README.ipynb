
The objective of the project is to set up a personalized recommendation system based on the data of the famous game Movielens and that using machine learning tools. 
The system must provide for a user and a given movie the score that is most likely to be assigned by the user (score ∈ [0; 5]). After studying the data provided in 
the starting kit we can see that each user and each film is identified by a unique "id". In addition, the data give us information about the age (divided into 7 groups), 
the profession and the genre of each user, as well as the films that are divided into 18 categories. To deal with our problem we decided to separate into 3 binomials 
respectively responsible for graphic interpretation, preprocessing and regressor.
